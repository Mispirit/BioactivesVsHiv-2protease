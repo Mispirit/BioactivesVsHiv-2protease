{
 "cells": [
  {
   "cell_type": "markdown",
   "id": "f61a23bd-dba6-4d90-bd5f-f554126ba583",
   "metadata": {},
   "source": [
    "# Prepare Receptor HIV 2 Protease"
   ]
  },
  {
   "cell_type": "code",
   "execution_count": 1,
   "id": "da4effaa-fbcd-463f-bbf8-15862536cc7f",
   "metadata": {},
   "outputs": [],
   "source": [
    "import os\n",
    "from openbabel import openbabel"
   ]
  },
  {
   "cell_type": "code",
   "execution_count": 3,
   "id": "07390258-2a5e-42ea-9011-bfc407b89950",
   "metadata": {},
   "outputs": [],
   "source": [
    "input_pdb = \"receptor/hiv2.pdb\"\n",
    "output_pdbqt = \"receptor/hiv2.pdbqt\""
   ]
  },
  {
   "cell_type": "code",
   "execution_count": 4,
   "id": "d04865a5-f89c-4b8d-818f-359bf2dd0d1e",
   "metadata": {},
   "outputs": [
    {
     "data": {
      "text/plain": [
       "True"
      ]
     },
     "execution_count": 4,
     "metadata": {},
     "output_type": "execute_result"
    }
   ],
   "source": [
    "obConversion = openbabel.OBConversion()\n",
    "obConversion.SetInAndOutFormats(\"pdb\", \"pdbqt\")"
   ]
  },
  {
   "cell_type": "code",
   "execution_count": 5,
   "id": "9bee802a-691d-45d5-b269-5cfb56867d2a",
   "metadata": {},
   "outputs": [
    {
     "name": "stdout",
     "output_type": "stream",
     "text": [
      "Conversion successful: receptor/hiv2.pdbqt\n"
     ]
    }
   ],
   "source": [
    "mol = openbabel.OBMol()\n",
    "if obConversion.ReadFile(mol, input_pdb):\n",
    "    obConversion.WriteFile(mol, output_pdbqt)\n",
    "    print(f\"Conversion successful: {output_pdbqt}\")\n",
    "else:\n",
    "    print(\"Error: Failed to read input PDB file.\")"
   ]
  },
  {
   "cell_type": "code",
   "execution_count": null,
   "id": "42255c7a-8707-4883-bd5d-df4763c76929",
   "metadata": {},
   "outputs": [],
   "source": []
  }
 ],
 "metadata": {
  "kernelspec": {
   "display_name": "Python 3 (ipykernel)",
   "language": "python",
   "name": "python3"
  },
  "language_info": {
   "codemirror_mode": {
    "name": "ipython",
    "version": 3
   },
   "file_extension": ".py",
   "mimetype": "text/x-python",
   "name": "python",
   "nbconvert_exporter": "python",
   "pygments_lexer": "ipython3",
   "version": "3.12.3"
  }
 },
 "nbformat": 4,
 "nbformat_minor": 5
}
