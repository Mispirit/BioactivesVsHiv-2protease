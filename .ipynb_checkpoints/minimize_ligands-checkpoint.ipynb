{
 "cells": [
  {
   "cell_type": "markdown",
   "id": "b9e51d1f-9e7d-40c8-b4ff-90c8d23f3102",
   "metadata": {},
   "source": [
    "# Preparation of Ligands"
   ]
  },
  {
   "cell_type": "markdown",
   "id": "ba74c579-6784-436c-acf7-a2efa6299d96",
   "metadata": {},
   "source": [
    "### Converting to SDF"
   ]
  },
  {
   "cell_type": "code",
   "execution_count": 2,
   "id": "58ae01ab-5ea4-43ef-bf6f-79ef605126b3",
   "metadata": {},
   "outputs": [],
   "source": [
    "import os\n",
    "import pandas as pd\n",
    "import re\n",
    "from rdkit import Chem\n",
    "from openbabel import pybel"
   ]
  },
  {
   "cell_type": "code",
   "execution_count": 4,
   "id": "53a582b6-a282-448e-aff1-17b848cb2f6a",
   "metadata": {},
   "outputs": [],
   "source": [
    "def read_csv(file_path):\n",
    "    try:\n",
    "        df = pd.read_csv(file_path, encoding=\"utf-8\")\n",
    "    except UnicodeDecodeError:\n",
    "        df = pd.read_csv(file_path, encoding=\"latin1\")\n",
    "    df[\"SMILES\"] = df[\"SMILES\"].astype(str).str.strip()\n",
    "    return df"
   ]
  },
  {
   "cell_type": "code",
   "execution_count": 5,
   "id": "6a5fd854-0190-486a-85b6-ea715b874bb5",
   "metadata": {},
   "outputs": [],
   "source": [
    "def clean_smiles(smiles):\n",
    "    smiles = re.sub(r'[^\\x00-\\x7F]+', '', smiles)  # Remove corrupt characters\n",
    "    smiles = smiles.replace(\"\\\\\", \"\")  # Fix incorrect escape sequences\n",
    "    return smiles.strip()"
   ]
  },
  {
   "cell_type": "code",
   "execution_count": 6,
   "id": "faf26aa7-ed88-4c94-b85e-92a8b13f1583",
   "metadata": {},
   "outputs": [],
   "source": [
    "def is_valid_smiles(smiles):\n",
    "    mol = Chem.MolFromSmiles(smiles)\n",
    "    return mol is not None"
   ]
  },
  {
   "cell_type": "code",
   "execution_count": 7,
   "id": "7cc89a6a-b09f-4b08-84c0-47f93dee8ff8",
   "metadata": {},
   "outputs": [],
   "source": [
    "def convert_to_sdf(df, output_folder=\"ligands\"):\n",
    "    os.makedirs(output_folder, exist_ok=True)\n",
    "    \n",
    "    for idx, row in df[df[\"Valid\"] == True].iterrows():\n",
    "        name = row[\"Name\"].replace(\" \", \"_\")\n",
    "        smiles = row[\"SMILES\"]\n",
    "        \n",
    "        try:\n",
    "            mol = pybel.readstring(\"smi\", smiles)\n",
    "            mol.make3D(forcefield=\"uff\")\n",
    "            mol.localopt(forcefield=\"uff\", steps=200)\n",
    "            mol.write(\"sdf\", f\"{output_folder}/{name}.sdf\", overwrite=True)\n",
    "            print(f\" Saved: {name}.sdf\")\n",
    "        except Exception as e:\n",
    "            print(f\" Error processing {name}: {e}\")"
   ]
  },
  {
   "cell_type": "code",
   "execution_count": 8,
   "id": "0122cf65-1c5f-41bb-b29d-21e6a46329bd",
   "metadata": {},
   "outputs": [
    {
     "name": "stdout",
     "output_type": "stream",
     "text": [
      " Saved: Protodioscin.sdf\n",
      " Saved: Prototribestin.sdf\n",
      " Saved: Dioscin.sdf\n",
      " Saved: Tribulosin.sdf\n",
      " Saved: Rutin.sdf\n",
      " Saved: kaempferol.sdf\n",
      " Saved: kaempferol-3-glucoside.sdf\n",
      " Saved: Kaempferol-3-rutinoside.sdf\n",
      " Saved: Tribuloside.sdf\n",
      " Saved: quercetin.sdf\n",
      " Saved: Isorhamnetin.sdf\n",
      " Saved: Flavonols.sdf\n",
      " Saved: Terrestribisamide.sdf\n",
      " Saved: Pseudoprotodioscin.sdf\n",
      " Saved: Quercetin_3-gentiobioside.sdf\n",
      " Saved: pyrrolidine-2,5-dione.sdf\n",
      " Saved: Terrestribisamide.sdf\n",
      " Saved: Tribulusterine.sdf\n",
      " Saved: (25R)-Spirost-4-ene-3,12-dione.sdf\n",
      " Saved: Terrestrosin_K.sdf\n",
      " Saved: Terrestrosin_G.sdf\n",
      " Saved: Tribulusamide_B.sdf\n",
      " Saved: terrestrosin_d.sdf\n",
      " Saved: ferulic_acid.sdf\n",
      " Saved: Vanillin.sdf\n"
     ]
    }
   ],
   "source": [
    "file_path = \"compounds.csv\"\n",
    "df = read_csv(file_path)\n",
    "df[\"SMILES\"] = df[\"SMILES\"].apply(clean_smiles)\n",
    "df[\"Valid\"] = df[\"SMILES\"].apply(is_valid_smiles)\n",
    "\n",
    "invalid_smiles = df[df[\"Valid\"] == False]\n",
    "if not invalid_smiles.empty:\n",
    "    print(\"The following SMILES are invalid:\")\n",
    "    print(invalid_smiles[[\"Name\", \"SMILES\"]])\n",
    "\n",
    "convert_to_sdf(df)"
   ]
  },
  {
   "cell_type": "code",
   "execution_count": null,
   "id": "e3111c70-d826-429a-bcf3-b24fca3923ca",
   "metadata": {},
   "outputs": [],
   "source": []
  }
 ],
 "metadata": {
  "kernelspec": {
   "display_name": "Python 3 (ipykernel)",
   "language": "python",
   "name": "python3"
  },
  "language_info": {
   "codemirror_mode": {
    "name": "ipython",
    "version": 3
   },
   "file_extension": ".py",
   "mimetype": "text/x-python",
   "name": "python",
   "nbconvert_exporter": "python",
   "pygments_lexer": "ipython3",
   "version": "3.12.3"
  }
 },
 "nbformat": 4,
 "nbformat_minor": 5
}
